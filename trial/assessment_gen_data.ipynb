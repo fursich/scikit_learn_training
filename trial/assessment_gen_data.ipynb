{
 "cells": [
  {
   "cell_type": "code",
   "execution_count": null,
   "metadata": {},
   "outputs": [],
   "source": []
  },
  {
   "cell_type": "code",
   "execution_count": 2,
   "metadata": {},
   "outputs": [
    {
     "data": {
      "text/plain": [
       "'%.3f'"
      ]
     },
     "execution_count": 2,
     "metadata": {},
     "output_type": "execute_result"
    }
   ],
   "source": [
    "import numpy as np\n",
    "import numpy.random as random\n",
    "import scipy as sp\n",
    "import pandas as pd\n",
    "from pandas import Series, DataFrame\n",
    "\n",
    "# 可視化モジュール\n",
    "import matplotlib.pyplot as plt\n",
    "import matplotlib as mpl\n",
    "import seaborn as sns\n",
    "sns.set()\n",
    "%matplotlib inline\n",
    "\n",
    "# 小数第３まで表示\n",
    "%precision 3"
   ]
  },
  {
   "cell_type": "code",
   "execution_count": 3,
   "metadata": {},
   "outputs": [],
   "source": [
    "achievements = pd.read_csv('data/assessment_data_with_names.csv')\n",
    "# achievements.head(10)"
   ]
  },
  {
   "cell_type": "code",
   "execution_count": 4,
   "metadata": {},
   "outputs": [
    {
     "name": "stdout",
     "output_type": "stream",
     "text": [
      "<class 'pandas.core.frame.DataFrame'>\n",
      "RangeIndex: 495034 entries, 0 to 495033\n",
      "Data columns (total 3 columns):\n",
      "condition    495034 non-null int64\n",
      "item_desc    495034 non-null object\n",
      "price        479387 non-null float64\n",
      "dtypes: float64(1), int64(1), object(1)\n",
      "memory usage: 11.3+ MB\n"
     ]
    }
   ],
   "source": [
    "achievements.info()"
   ]
  },
  {
   "cell_type": "code",
   "execution_count": 5,
   "metadata": {},
   "outputs": [],
   "source": [
    "data = np.array(achievements[['condition', 'item_desc']])\n",
    "target = np.array(achievements['price'])\n",
    "feature_names = ['condition', 'item_desc']\n",
    "target_names = [\"新品・未開封\", \"中古美品\", \"中古品・使用感あり\", \"目立つ傷がある\", \"故障品\", \"不明\"]"
   ]
  },
  {
   "cell_type": "code",
   "execution_count": 6,
   "metadata": {},
   "outputs": [],
   "source": [
    "from sklearn.datasets.base import Bunch\n",
    "from sklearn.model_selection import  train_test_split\n",
    "\n",
    "achievement_datasets = Bunch(\n",
    "    data=data,\n",
    "    target=target,\n",
    "    feature_names=feature_names,\n",
    "    target_names=target_names,\n",
    ")"
   ]
  },
  {
   "cell_type": "code",
   "execution_count": 7,
   "metadata": {},
   "outputs": [],
   "source": [
    "X_train, X_test, y_train, y_test = train_test_split(\n",
    "    achievement_datasets.data,\n",
    "    achievement_datasets.target,\n",
    "    random_state =100\n",
    ")"
   ]
  },
  {
   "cell_type": "code",
   "execution_count": null,
   "metadata": {},
   "outputs": [],
   "source": [
    "import gensim\n",
    "model = gensim.models.KeyedVectors.load_word2vec_format('../../mecab/data/pre_trained/model.vec', binary=False)"
   ]
  },
  {
   "cell_type": "code",
   "execution_count": null,
   "metadata": {
    "scrolled": true
   },
   "outputs": [],
   "source": [
    "model.most_similar(positive=['日本', 'パリ'], negative=['東京'])"
   ]
  },
  {
   "cell_type": "code",
   "execution_count": null,
   "metadata": {},
   "outputs": [],
   "source": [
    "import MeCab\n",
    "\n",
    "mecab = MeCab.Tagger ('-d /usr/local/lib/mecab/dic/mecab-ipadic-neologd')\n",
    "text = \"国境の長いトンネルを抜けると雪国であった。夜の底が白くなった。信号所に汽車が止まった。 \\\n",
    "\\n　向側の座席から娘が立って来て、島村の前のガラス窓を落した。雪の冷気が流れこんだ。 \\\n",
    "\\n 娘は窓いっぱいに乗り出して、遠くへ呼ぶように、 \\\n",
    "\\n 「駅長さあん、駅長さあん」 \\\n",
    "\\n 明りをさげてゆっくり雪を踏んで来た男は、襟巻で鼻の上まで包み、耳に帽子の毛皮を垂れていた。 \\\n",
    "\\n もうそんな寒さかと島村は外を眺めると、鉄道の官舎らしいバラックが山裾に寒々と散らばっているだけで、雪の色はそこまで行かぬうちに闇に呑まれていた。\"\n",
    "\n",
    "mecab.parse('')#文字列がGCされる闇対策"
   ]
  },
  {
   "cell_type": "code",
   "execution_count": null,
   "metadata": {},
   "outputs": [],
   "source": [
    "def str_diff(orig, sub):\n",
    "    return orig.replace(sub, '')"
   ]
  },
  {
   "cell_type": "code",
   "execution_count": null,
   "metadata": {},
   "outputs": [],
   "source": [
    "node = mecab.parseToNode(text)\n",
    "words = node.next.surface\n",
    "\n",
    "while node.next:\n",
    "    prev_words = words\n",
    "    words = node.next.surface\n",
    "    feature = node.feature.split(\",\")\n",
    "\n",
    "    print( \"{:10.10s}|{:10s}|{:10.10s}|{:10.10s}\".format(str_diff(prev_words, words), feature[0], feature[1], feature[7]) )\n",
    "\n",
    "    node = node.next"
   ]
  },
  {
   "cell_type": "code",
   "execution_count": null,
   "metadata": {},
   "outputs": [],
   "source": []
  }
 ],
 "metadata": {
  "kernelspec": {
   "display_name": "Python 3",
   "language": "python",
   "name": "python3"
  },
  "language_info": {
   "codemirror_mode": {
    "name": "ipython",
    "version": 3
   },
   "file_extension": ".py",
   "mimetype": "text/x-python",
   "name": "python",
   "nbconvert_exporter": "python",
   "pygments_lexer": "ipython3",
   "version": "3.7.0"
  }
 },
 "nbformat": 4,
 "nbformat_minor": 2
}
