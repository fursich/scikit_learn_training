{
 "cells": [
  {
   "cell_type": "code",
   "execution_count": null,
   "metadata": {},
   "outputs": [],
   "source": []
  },
  {
   "cell_type": "code",
   "execution_count": 1,
   "metadata": {},
   "outputs": [
    {
     "data": {
      "text/plain": [
       "'%.3f'"
      ]
     },
     "execution_count": 1,
     "metadata": {},
     "output_type": "execute_result"
    }
   ],
   "source": [
    "import numpy as np\n",
    "import numpy.random as random\n",
    "import scipy as sp\n",
    "import pandas as pd\n",
    "from pandas import Series, DataFrame\n",
    "\n",
    "# 可視化モジュール\n",
    "import matplotlib.pyplot as plt\n",
    "import matplotlib as mpl\n",
    "import seaborn as sns\n",
    "sns.set()\n",
    "%matplotlib inline\n",
    "\n",
    "# 小数第３まで表示\n",
    "%precision 3"
   ]
  },
  {
   "cell_type": "code",
   "execution_count": 32,
   "metadata": {},
   "outputs": [],
   "source": [
    "achievements = pd.read_csv('data/assessment_data_with_names.csv')\n",
    "# achievements.head(10)"
   ]
  },
  {
   "cell_type": "code",
   "execution_count": 3,
   "metadata": {},
   "outputs": [
    {
     "name": "stdout",
     "output_type": "stream",
     "text": [
      "<class 'pandas.core.frame.DataFrame'>\n",
      "RangeIndex: 495034 entries, 0 to 495033\n",
      "Data columns (total 3 columns):\n",
      "condition    495034 non-null int64\n",
      "item_desc    495034 non-null object\n",
      "price        479387 non-null float64\n",
      "dtypes: float64(1), int64(1), object(1)\n",
      "memory usage: 11.3+ MB\n"
     ]
    }
   ],
   "source": [
    "achievements.info()"
   ]
  },
  {
   "cell_type": "code",
   "execution_count": 4,
   "metadata": {},
   "outputs": [],
   "source": [
    "data = np.array(achievements[['condition', 'item_desc']])\n",
    "target = np.array(achievements['price'])\n",
    "feature_names = ['condition', 'item_desc']\n",
    "target_names = [\"新品・未開封\", \"中古美品\", \"中古品・使用感あり\", \"目立つ傷がある\", \"故障品\", \"不明\"]"
   ]
  },
  {
   "cell_type": "code",
   "execution_count": 5,
   "metadata": {},
   "outputs": [],
   "source": [
    "from sklearn.datasets.base import Bunch\n",
    "from sklearn.model_selection import  train_test_split\n",
    "\n",
    "achievement_datasets = Bunch(\n",
    "    data=data,\n",
    "    target=target,\n",
    "    feature_names=feature_names,\n",
    "    target_names=target_names,\n",
    ")"
   ]
  },
  {
   "cell_type": "code",
   "execution_count": 6,
   "metadata": {},
   "outputs": [],
   "source": [
    "X_train, X_test, y_train, y_test = train_test_split(\n",
    "    achievement_datasets.data,\n",
    "    achievement_datasets.target,\n",
    "    random_state =100\n",
    ")"
   ]
  },
  {
   "cell_type": "code",
   "execution_count": 7,
   "metadata": {},
   "outputs": [],
   "source": [
    "# 実験済み：重いのでロードしない\n",
    "# import gensim\n",
    "# model = gensim.models.KeyedVectors.load_word2vec_format('../../mecab/data/pre_trained/model.vec', binary=False)"
   ]
  },
  {
   "cell_type": "code",
   "execution_count": 8,
   "metadata": {
    "scrolled": true
   },
   "outputs": [],
   "source": [
    "# model.most_similar(positive=['日本', 'パリ'], negative=['東京'])"
   ]
  },
  {
   "cell_type": "code",
   "execution_count": 35,
   "metadata": {},
   "outputs": [
    {
     "data": {
      "text/plain": [
       "'EOS\\n'"
      ]
     },
     "execution_count": 35,
     "metadata": {},
     "output_type": "execute_result"
    }
   ],
   "source": [
    "import MeCab\n",
    "\n",
    "mecab = MeCab.Tagger ('-d /usr/local/lib/mecab/dic/mecab-ipadic-neologd')\n",
    "mecab.parse('')#文字列がGCされる闇対策"
   ]
  },
  {
   "cell_type": "code",
   "execution_count": 36,
   "metadata": {},
   "outputs": [],
   "source": [
    "def str_diff(orig, sub):\n",
    "    return orig.replace(sub, '')"
   ]
  },
  {
   "cell_type": "code",
   "execution_count": 37,
   "metadata": {},
   "outputs": [],
   "source": [
    "def try_parse(text):\n",
    "    node = mecab.parseToNode(text)\n",
    "    words = node.next.surface\n",
    "\n",
    "    while node.next:\n",
    "        prev_words = words\n",
    "        words = node.next.surface\n",
    "        feature = node.feature.split(\",\")\n",
    "\n",
    "        print( \"{:10.10s}|{:10s}|{:10.10s}|{:10.10s}\".format(str_diff(prev_words, words), feature[0], feature[6], feature[7]) )\n",
    "\n",
    "        node = node.next"
   ]
  },
  {
   "cell_type": "code",
   "execution_count": 38,
   "metadata": {},
   "outputs": [
    {
     "name": "stdout",
     "output_type": "stream",
     "text": [
      "          |BOS/EOS   |*         |*         \n",
      "国境        |名詞        |国境        |コッキョウ     \n",
      "の         |助詞        |の         |ノ         \n",
      "長い        |形容詞       |長い        |ナガイ       \n",
      "トンネル      |名詞        |トンネル      |トンネル      \n",
      "を         |助詞        |を         |ヲ         \n",
      "抜ける       |動詞        |抜ける       |ヌケル       \n",
      "と         |助詞        |と         |ト         \n",
      "雪国        |名詞        |雪国        |ユキグニ      \n",
      "で         |助動詞       |だ         |デ         \n",
      "あっ        |助動詞       |ある        |アッ        \n",
      "た         |助動詞       |た         |タ         \n",
      "。         |記号        |。         |。         \n",
      "夜         |名詞        |夜         |ヨル        \n",
      "の         |助詞        |の         |ノ         \n",
      "底         |名詞        |底         |ソコ        \n",
      "が         |助詞        |が         |ガ         \n",
      "白く        |形容詞       |白い        |シロク       \n",
      "なっ        |動詞        |なる        |ナッ        \n",
      "た         |助動詞       |た         |タ         \n",
      "。         |記号        |。         |。         \n",
      "信号所       |名詞        |信号所       |シンゴウショ    \n",
      "に         |助詞        |に         |ニ         \n",
      "汽車        |名詞        |汽車        |キシャ       \n",
      "が         |助詞        |が         |ガ         \n",
      "止まっ       |動詞        |止まる       |トマッ       \n",
      "た         |助動詞       |た         |タ         \n",
      "。 \n",
      "       |記号        |。         |。         \n",
      "　         |記号        |　         |　         \n",
      "向側        |名詞        |向う側       |ムコウガワ     \n",
      "の         |助詞        |の         |ノ         \n",
      "座席        |名詞        |座席        |ザセキ       \n",
      "から        |助詞        |から        |カラ        \n",
      "娘         |名詞        |娘。        |ムスメ       \n",
      "が         |助詞        |が         |ガ         \n",
      "立っ        |動詞        |立つ        |タッ        \n",
      "て         |助詞        |て         |テ         \n",
      "来         |動詞        |来る        |キ         \n",
      "て         |助詞        |て         |テ         \n",
      "、         |記号        |、         |、         \n",
      "島村        |名詞        |島村        |シマムラ      \n",
      "の         |助詞        |の         |ノ         \n",
      "前         |名詞        |前         |マエ        \n",
      "の         |助詞        |の         |ノ         \n",
      "ガラス       |名詞        |ガラス       |ガラス       \n",
      "窓         |名詞        |窓         |マド        \n",
      "を         |助詞        |を         |ヲ         \n",
      "落し        |動詞        |落す        |オトシ       \n",
      "た         |助動詞       |た         |タ         \n",
      "。         |記号        |。         |。         \n",
      "雪         |名詞        |雪         |ユキ        \n",
      "の         |助詞        |の         |ノ         \n",
      "冷気        |名詞        |冷気        |レイキ       \n",
      "が         |助詞        |が         |ガ         \n",
      "流れ        |動詞        |流れる       |ナガレ       \n",
      "こん        |動詞        |こむ        |コン        \n",
      "だ         |助動詞       |だ         |ダ         \n",
      "。 \n",
      "       |記号        |。         |。         \n",
      "娘         |名詞        |娘。        |ムスメ       \n",
      "は         |助詞        |は         |ハ         \n",
      "窓         |名詞        |窓         |マド        \n",
      "いっぱい      |名詞        |いっぱい      |イッパイ      \n",
      "に         |助詞        |に         |ニ         \n",
      "乗り出し      |動詞        |乗り出す      |ノリダシ      \n",
      "て         |助詞        |て         |テ         \n",
      "、         |記号        |、         |、         \n",
      "遠く        |名詞        |遠く        |トオク       \n",
      "へ         |助詞        |へ         |ヘ         \n",
      "呼ぶ        |動詞        |呼ぶ        |ヨブ        \n",
      "よう        |名詞        |よう        |ヨウ        \n",
      "に         |助詞        |に         |ニ         \n",
      "、 \n",
      "       |記号        |、         |、         \n",
      "「         |記号        |「         |「         \n",
      "駅長        |名詞        |駅長        |エキチョウ     \n",
      "さ         |名詞        |さ         |サ         \n",
      "あん        |動詞        |ある        |アン        \n",
      "、         |記号        |、         |、         \n",
      "駅長        |名詞        |駅長        |エキチョウ     \n",
      "さ         |名詞        |さ         |サ         \n",
      "あん        |名詞        |あん        |アン        \n",
      "」 \n",
      "       |記号        |」         |」         \n",
      "明り        |名詞        |明り        |アカリ       \n",
      "を         |助詞        |を         |ヲ         \n",
      "さげ        |動詞        |さげる       |サゲ        \n",
      "て         |助詞        |て         |テ         \n",
      "ゆっくり      |副詞        |ゆっくり      |ユックリ      \n",
      "雪         |名詞        |雪         |ユキ        \n",
      "を         |助詞        |を         |ヲ         \n",
      "踏ん        |動詞        |踏む        |フン        \n",
      "で         |助詞        |で         |デ         \n",
      "来         |動詞        |来る        |キ         \n",
      "た         |助動詞       |た         |タ         \n",
      "男         |名詞        |男         |オトコ       \n",
      "は         |助詞        |は         |ハ         \n",
      "、         |記号        |、         |、         \n",
      "襟巻        |名詞        |襟巻        |エリマキ      \n",
      "で         |助詞        |で         |デ         \n",
      "鼻         |名詞        |鼻         |ハナ        \n",
      "の         |助詞        |の         |ノ         \n",
      "上         |名詞        |上         |ウエ        \n",
      "まで        |助詞        |まで        |マデ        \n",
      "包み        |動詞        |包む        |ツツミ       \n",
      "、         |記号        |、         |、         \n",
      "耳         |名詞        |耳         |ミミ        \n",
      "に         |助詞        |に         |ニ         \n",
      "帽子        |名詞        |帽子        |ボウシ       \n",
      "の         |助詞        |の         |ノ         \n",
      "毛皮        |名詞        |毛皮        |ケガワ       \n",
      "を         |助詞        |を         |ヲ         \n",
      "垂れ        |動詞        |垂れる       |タレ        \n",
      "て         |助詞        |て         |テ         \n",
      "い         |動詞        |いる        |イ         \n",
      "た         |助動詞       |た         |タ         \n",
      "。 \n",
      "       |記号        |。         |。         \n",
      "もう        |副詞        |もう        |モウ        \n",
      "そんな       |連体詞       |そんな       |ソンナ       \n",
      "寒さ        |名詞        |寒さ        |サムサ       \n",
      "か         |助詞        |か         |カ         \n",
      "と         |助詞        |と         |ト         \n",
      "島村        |名詞        |島村        |シマムラ      \n",
      "は         |助詞        |は         |ハ         \n",
      "外         |名詞        |外         |ソト        \n",
      "を         |助詞        |を         |ヲ         \n",
      "眺める       |動詞        |眺める       |ナガメル      \n",
      "と         |助詞        |と         |ト         \n",
      "、         |記号        |、         |、         \n",
      "鉄道        |名詞        |鉄道        |テツドウ      \n",
      "の         |助詞        |の         |ノ         \n",
      "官舎        |名詞        |官舎        |カンシャ      \n",
      "らしい       |助動詞       |らしい       |ラシイ       \n",
      "バラック      |名詞        |バラック      |バラック      \n",
      "が         |助詞        |が         |ガ         \n",
      "山裾        |名詞        |山裾        |ヤマスソ      \n",
      "に         |助詞        |に         |ニ         \n",
      "寒々        |名詞        |寒々        |サムザム      \n",
      "と         |助詞        |と         |ト         \n",
      "散らばっ      |動詞        |散らばる      |チラバッ      \n",
      "て         |助詞        |て         |テ         \n",
      "いる        |動詞        |いる        |イル        \n",
      "だけ        |助詞        |だけ        |ダケ        \n",
      "で         |助動詞       |だ         |デ         \n",
      "、         |記号        |、         |、         \n",
      "雪         |名詞        |雪         |ユキ        \n",
      "の         |助詞        |の         |ノ         \n",
      "色         |名詞        |色         |イロ        \n",
      "は         |助詞        |は         |ハ         \n",
      "そこ        |名詞        |そこ        |ソコ        \n",
      "まで        |助詞        |まで        |マデ        \n",
      "行か        |動詞        |行く        |イカ        \n",
      "ぬ         |助動詞       |ぬ         |ヌ         \n",
      "うち        |名詞        |うち        |ウチ        \n",
      "に         |助詞        |に         |ニ         \n",
      "闇         |名詞        |闇         |ヤミ        \n",
      "に         |助詞        |に         |ニ         \n",
      "呑ま        |動詞        |呑む        |ノマ        \n",
      "れ         |動詞        |れる        |レ         \n",
      "て         |助詞        |て         |テ         \n",
      "い         |動詞        |いる        |イ         \n",
      "た         |助動詞       |た         |タ         \n",
      "。         |記号        |。         |。         \n"
     ]
    }
   ],
   "source": [
    "text = \"国境の長いトンネルを抜けると雪国であった。夜の底が白くなった。信号所に汽車が止まった。 \\\n",
    "\\n　向側の座席から娘が立って来て、島村の前のガラス窓を落した。雪の冷気が流れこんだ。 \\\n",
    "\\n 娘は窓いっぱいに乗り出して、遠くへ呼ぶように、 \\\n",
    "\\n 「駅長さあん、駅長さあん」 \\\n",
    "\\n 明りをさげてゆっくり雪を踏んで来た男は、襟巻で鼻の上まで包み、耳に帽子の毛皮を垂れていた。 \\\n",
    "\\n もうそんな寒さかと島村は外を眺めると、鉄道の官舎らしいバラックが山裾に寒々と散らばっているだけで、雪の色はそこまで行かぬうちに闇に呑まれていた。\"\n",
    "\n",
    "try_parse(text)"
   ]
  },
  {
   "cell_type": "code",
   "execution_count": 42,
   "metadata": {},
   "outputs": [],
   "source": [
    "class WordDividor:\n",
    "    INDEX_CATEGORY = 0\n",
    "    INDEX_ROOT_FORM = 6\n",
    "    TARGET_CATEGORIES = [\"名詞\", \" 動詞\",  \"形容詞\"]\n",
    "\n",
    "    def __init__(self, dictionary=\"mecabrc\"):\n",
    "        self.dictionary = dictionary\n",
    "        self.tagger = MeCab.Tagger(self.dictionary)\n",
    "\n",
    "    def extract_words(self, text):\n",
    "        if not text:\n",
    "            return []\n",
    "\n",
    "        words = []\n",
    "\n",
    "        node = self.tagger.parseToNode(text)\n",
    "        while node:\n",
    "            features = node.feature.split(',')\n",
    "\n",
    "            if features[self.INDEX_CATEGORY] in self.TARGET_CATEGORIES:\n",
    "                if features[self.INDEX_ROOT_FORM] != \"*\":\n",
    "                    # prefer root form\n",
    "                    words.append(features[self.INDEX_ROOT_FORM])\n",
    "#                 else:\n",
    "#                     words.append(node.surface) # do nothing\n",
    "\n",
    "            node = node.next\n",
    "\n",
    "        return words"
   ]
  },
  {
   "cell_type": "code",
   "execution_count": 43,
   "metadata": {},
   "outputs": [
    {
     "name": "stdout",
     "output_type": "stream",
     "text": [
      "{'雪': 5, '深い': 3, 'ラッセル': 1, '長い': 4, '尾根': 2, 'もち': 0}\n",
      "  (0, 2)\t1\n",
      "  (0, 4)\t1\n",
      "  (0, 1)\t1\n",
      "  (0, 3)\t1\n",
      "  (0, 5)\t3\n",
      "  (1, 0)\t2\n"
     ]
    }
   ],
   "source": [
    "from sklearn.feature_extraction.text import CountVectorizer\n",
    "\n",
    "wd = WordDividor()\n",
    "cv = CountVectorizer(analyzer=wd.extract_words)\n",
    "\n",
    "text = [\"雪。また雪。深い雪のラッセルにあえぎながら長く伸びた尾根を超える\", \"もちはもちや\"]\n",
    "\n",
    "counts = cv.fit_transform(text)\n",
    "print(cv.vocabulary_)\n",
    "print(counts)"
   ]
  },
  {
   "cell_type": "code",
   "execution_count": 98,
   "metadata": {},
   "outputs": [],
   "source": [
    "from sklearn.feature_extraction.text import CountVectorizer\n",
    "\n",
    "wd = WordDividor()\n",
    "cv = CountVectorizer(analyzer=wd.extract_words)\n",
    "\n",
    "text = achievements.item_desc\n",
    "counts = cv.fit_transform(text)\n",
    "# print(cv.vocabulary_)\n",
    "# print(counts)"
   ]
  },
  {
   "cell_type": "code",
   "execution_count": 96,
   "metadata": {},
   "outputs": [
    {
     "data": {
      "text/plain": [
       "4713"
      ]
     },
     "execution_count": 96,
     "metadata": {},
     "output_type": "execute_result"
    }
   ],
   "source": [
    "cv.vocabulary_['腕時計']"
   ]
  },
  {
   "cell_type": "code",
   "execution_count": 81,
   "metadata": {},
   "outputs": [
    {
     "data": {
      "text/plain": [
       "\"<495034x5472 sparse matrix of type '<class 'numpy.int64'>'\\n\\twith 1498996 stored elements in Compressed Sparse Row format>\""
      ]
     },
     "execution_count": 81,
     "metadata": {},
     "output_type": "execute_result"
    }
   ],
   "source": [
    "repr(counts)"
   ]
  },
  {
   "cell_type": "code",
   "execution_count": 107,
   "metadata": {},
   "outputs": [],
   "source": [
    "data = counts.toarray()\n",
    "target = np.array(achievements['price'])\n",
    "feature_names = ['condition', 'item_desc']"
   ]
  },
  {
   "cell_type": "code",
   "execution_count": 108,
   "metadata": {},
   "outputs": [],
   "source": [
    "from sklearn.datasets.base import Bunch\n",
    "from sklearn.model_selection import  train_test_split\n",
    "\n",
    "achievement_datasets = Bunch(\n",
    "    data = data,\n",
    "    target=target,\n",
    ")\n",
    "\n",
    "X_train, X_test, y_train, y_test = train_test_split(\n",
    "    achievement_datasets.data,\n",
    "    achievement_datasets.target,\n",
    "    random_state =100\n",
    ")"
   ]
  },
  {
   "cell_type": "code",
   "execution_count": 109,
   "metadata": {},
   "outputs": [
    {
     "ename": "ValueError",
     "evalue": "Input contains NaN, infinity or a value too large for dtype('float64').",
     "output_type": "error",
     "traceback": [
      "\u001b[0;31m---------------------------------------------------------------------------\u001b[0m",
      "\u001b[0;31mValueError\u001b[0m                                Traceback (most recent call last)",
      "\u001b[0;32m<ipython-input-109-7b44b3dacb63>\u001b[0m in \u001b[0;36m<module>\u001b[0;34m()\u001b[0m\n\u001b[1;32m      2\u001b[0m \u001b[0;34m\u001b[0m\u001b[0m\n\u001b[1;32m      3\u001b[0m \u001b[0mmodel\u001b[0m \u001b[0;34m=\u001b[0m \u001b[0mDecisionTreeRegressor\u001b[0m\u001b[0;34m(\u001b[0m\u001b[0;34m)\u001b[0m\u001b[0;34m\u001b[0m\u001b[0m\n\u001b[0;32m----> 4\u001b[0;31m \u001b[0mmodel\u001b[0m\u001b[0;34m.\u001b[0m\u001b[0mfit\u001b[0m\u001b[0;34m(\u001b[0m\u001b[0mX_train\u001b[0m\u001b[0;34m,\u001b[0m \u001b[0my_train\u001b[0m\u001b[0;34m)\u001b[0m\u001b[0;34m\u001b[0m\u001b[0m\n\u001b[0m",
      "\u001b[0;32m~/anaconda3/lib/python3.7/site-packages/sklearn/tree/tree.py\u001b[0m in \u001b[0;36mfit\u001b[0;34m(self, X, y, sample_weight, check_input, X_idx_sorted)\u001b[0m\n\u001b[1;32m   1122\u001b[0m             \u001b[0msample_weight\u001b[0m\u001b[0;34m=\u001b[0m\u001b[0msample_weight\u001b[0m\u001b[0;34m,\u001b[0m\u001b[0;34m\u001b[0m\u001b[0m\n\u001b[1;32m   1123\u001b[0m             \u001b[0mcheck_input\u001b[0m\u001b[0;34m=\u001b[0m\u001b[0mcheck_input\u001b[0m\u001b[0;34m,\u001b[0m\u001b[0;34m\u001b[0m\u001b[0m\n\u001b[0;32m-> 1124\u001b[0;31m             X_idx_sorted=X_idx_sorted)\n\u001b[0m\u001b[1;32m   1125\u001b[0m         \u001b[0;32mreturn\u001b[0m \u001b[0mself\u001b[0m\u001b[0;34m\u001b[0m\u001b[0m\n\u001b[1;32m   1126\u001b[0m \u001b[0;34m\u001b[0m\u001b[0m\n",
      "\u001b[0;32m~/anaconda3/lib/python3.7/site-packages/sklearn/tree/tree.py\u001b[0m in \u001b[0;36mfit\u001b[0;34m(self, X, y, sample_weight, check_input, X_idx_sorted)\u001b[0m\n\u001b[1;32m    115\u001b[0m         \u001b[0;32mif\u001b[0m \u001b[0mcheck_input\u001b[0m\u001b[0;34m:\u001b[0m\u001b[0;34m\u001b[0m\u001b[0m\n\u001b[1;32m    116\u001b[0m             \u001b[0mX\u001b[0m \u001b[0;34m=\u001b[0m \u001b[0mcheck_array\u001b[0m\u001b[0;34m(\u001b[0m\u001b[0mX\u001b[0m\u001b[0;34m,\u001b[0m \u001b[0mdtype\u001b[0m\u001b[0;34m=\u001b[0m\u001b[0mDTYPE\u001b[0m\u001b[0;34m,\u001b[0m \u001b[0maccept_sparse\u001b[0m\u001b[0;34m=\u001b[0m\u001b[0;34m\"csc\"\u001b[0m\u001b[0;34m)\u001b[0m\u001b[0;34m\u001b[0m\u001b[0m\n\u001b[0;32m--> 117\u001b[0;31m             \u001b[0my\u001b[0m \u001b[0;34m=\u001b[0m \u001b[0mcheck_array\u001b[0m\u001b[0;34m(\u001b[0m\u001b[0my\u001b[0m\u001b[0;34m,\u001b[0m \u001b[0mensure_2d\u001b[0m\u001b[0;34m=\u001b[0m\u001b[0;32mFalse\u001b[0m\u001b[0;34m,\u001b[0m \u001b[0mdtype\u001b[0m\u001b[0;34m=\u001b[0m\u001b[0;32mNone\u001b[0m\u001b[0;34m)\u001b[0m\u001b[0;34m\u001b[0m\u001b[0m\n\u001b[0m\u001b[1;32m    118\u001b[0m             \u001b[0;32mif\u001b[0m \u001b[0missparse\u001b[0m\u001b[0;34m(\u001b[0m\u001b[0mX\u001b[0m\u001b[0;34m)\u001b[0m\u001b[0;34m:\u001b[0m\u001b[0;34m\u001b[0m\u001b[0m\n\u001b[1;32m    119\u001b[0m                 \u001b[0mX\u001b[0m\u001b[0;34m.\u001b[0m\u001b[0msort_indices\u001b[0m\u001b[0;34m(\u001b[0m\u001b[0;34m)\u001b[0m\u001b[0;34m\u001b[0m\u001b[0m\n",
      "\u001b[0;32m~/anaconda3/lib/python3.7/site-packages/sklearn/utils/validation.py\u001b[0m in \u001b[0;36mcheck_array\u001b[0;34m(array, accept_sparse, dtype, order, copy, force_all_finite, ensure_2d, allow_nd, ensure_min_samples, ensure_min_features, warn_on_dtype, estimator)\u001b[0m\n\u001b[1;32m    451\u001b[0m                              % (array.ndim, estimator_name))\n\u001b[1;32m    452\u001b[0m         \u001b[0;32mif\u001b[0m \u001b[0mforce_all_finite\u001b[0m\u001b[0;34m:\u001b[0m\u001b[0;34m\u001b[0m\u001b[0m\n\u001b[0;32m--> 453\u001b[0;31m             \u001b[0m_assert_all_finite\u001b[0m\u001b[0;34m(\u001b[0m\u001b[0marray\u001b[0m\u001b[0;34m)\u001b[0m\u001b[0;34m\u001b[0m\u001b[0m\n\u001b[0m\u001b[1;32m    454\u001b[0m \u001b[0;34m\u001b[0m\u001b[0m\n\u001b[1;32m    455\u001b[0m     \u001b[0mshape_repr\u001b[0m \u001b[0;34m=\u001b[0m \u001b[0m_shape_repr\u001b[0m\u001b[0;34m(\u001b[0m\u001b[0marray\u001b[0m\u001b[0;34m.\u001b[0m\u001b[0mshape\u001b[0m\u001b[0;34m)\u001b[0m\u001b[0;34m\u001b[0m\u001b[0m\n",
      "\u001b[0;32m~/anaconda3/lib/python3.7/site-packages/sklearn/utils/validation.py\u001b[0m in \u001b[0;36m_assert_all_finite\u001b[0;34m(X)\u001b[0m\n\u001b[1;32m     42\u001b[0m             and not np.isfinite(X).all()):\n\u001b[1;32m     43\u001b[0m         raise ValueError(\"Input contains NaN, infinity\"\n\u001b[0;32m---> 44\u001b[0;31m                          \" or a value too large for %r.\" % X.dtype)\n\u001b[0m\u001b[1;32m     45\u001b[0m \u001b[0;34m\u001b[0m\u001b[0m\n\u001b[1;32m     46\u001b[0m \u001b[0;34m\u001b[0m\u001b[0m\n",
      "\u001b[0;31mValueError\u001b[0m: Input contains NaN, infinity or a value too large for dtype('float64')."
     ]
    }
   ],
   "source": [
    "from sklearn.tree import DecisionTreeRegressor\n",
    "\n",
    "model = DecisionTreeRegressor()\n",
    "model.fit(X_train, y_train)"
   ]
  },
  {
   "cell_type": "code",
   "execution_count": null,
   "metadata": {},
   "outputs": [],
   "source": [
    "print(\"Test score: {:.2f}\".format(model.score(X_test, y_test)))"
   ]
  }
 ],
 "metadata": {
  "kernelspec": {
   "display_name": "Python 3",
   "language": "python",
   "name": "python3"
  },
  "language_info": {
   "codemirror_mode": {
    "name": "ipython",
    "version": 3
   },
   "file_extension": ".py",
   "mimetype": "text/x-python",
   "name": "python",
   "nbconvert_exporter": "python",
   "pygments_lexer": "ipython3",
   "version": "3.7.0"
  }
 },
 "nbformat": 4,
 "nbformat_minor": 2
}
