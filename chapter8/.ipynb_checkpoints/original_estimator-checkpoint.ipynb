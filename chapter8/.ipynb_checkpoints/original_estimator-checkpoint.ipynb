{
 "cells": [
  {
   "cell_type": "code",
   "execution_count": 1,
   "metadata": {},
   "outputs": [],
   "source": [
    "from sklearn.base import BaseEstimator, TransformerMixin\n",
    "\n",
    "class MyTransformer(BaseEstimator, TransformerMixin):\n",
    "    def __init__(self, first_parameter=1, second_parameter=2):\n",
    "        # 全てのパラメータを__init__メソッドで指定すること\n",
    "        self.first_parameter = 1\n",
    "        self.second_parameter = 2\n",
    "        # 実際、grid searchする際は、このインスタンスをクローンした上で、\n",
    "        # setterで引数を投入して試行している\n",
    "        # https://github.com/scikit-learn/scikit-learn/blob/2955129128341ba3f2187c5a6619084f312bca88/sklearn/model_selection/_search.py#L704\n",
    "    def fit(self, X, y=None):\n",
    "        # fitはXとyを引数にとる（マスト）\n",
    "        # 教師なしであってもyを設定しておくことが必要！\n",
    "        \n",
    "        print(\"モデルの学習をここで行う\")\n",
    "        # fitは必ずselfを返すこと\n",
    "        return self\n",
    "    def transform(self, X):\n",
    "        # transformは引数Xだけを取る\n",
    "        \n",
    "        # Xに対して変換を行ったものを返す\n",
    "        X_transformed = X + 1\n",
    "        return X_transformed"
   ]
  },
  {
   "cell_type": "code",
   "execution_count": null,
   "metadata": {},
   "outputs": [],
   "source": []
  }
 ],
 "metadata": {
  "kernelspec": {
   "display_name": "Python 3",
   "language": "python",
   "name": "python3"
  },
  "language_info": {
   "codemirror_mode": {
    "name": "ipython",
    "version": 3
   },
   "file_extension": ".py",
   "mimetype": "text/x-python",
   "name": "python",
   "nbconvert_exporter": "python",
   "pygments_lexer": "ipython3",
   "version": "3.7.0"
  }
 },
 "nbformat": 4,
 "nbformat_minor": 2
}
